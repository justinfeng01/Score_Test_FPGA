from driver import *
from MNIST_LARGE_cfg import *
from pynq import Overlay
import numpy as np
from pynq import Xlnk
import time
import cv2
import matplotlib.pyplot as plt
import os
import pandas as pd

#驱动，烧入权值
t1 = time.time()
ol=Overlay("conv_pool.bit")
ol.download();
dma=ol.axi_dma_0
pool=ol.pool_0
conv=ol.Conv_0

xlnk=Xlnk()
image=xlnk.cma_array(shape=(1,28,28,K),cacheable=0,dtype=np.int16)
W_conv1=xlnk.cma_array(shape=(32,3,3,1,K),cacheable=0,dtype=np.int16)
h_conv1=xlnk.cma_array(shape=(4,28,28,K),cacheable=0,dtype=np.int16)
h_pool1=xlnk.cma_array(shape=(4,7,7,K),cacheable=0,dtype=np.int16)
W_fc1=xlnk.cma_array(shape=(256,7,7,4,K),cacheable=0,dtype=np.int16)
h_fc1=xlnk.cma_array(shape=(32,1,1,K),cacheable=0,dtype=np.int16)
W_fc2=xlnk.cma_array(shape=(10,1,1,32,K),cacheable=0,dtype=np.int16)
h_fc2=xlnk.cma_array(shape=(2,1,1,K),cacheable=0,dtype=np.int16)

Load_Weight_From_File(W_conv1,"record/W_conv1.bin")
Load_Weight_From_File(W_fc1,"record/W_fc1.bin")
Load_Weight_From_File(W_fc2,"record/W_fc2.bin")
t2 = time.time()
print(t2-t1)



#读取测试图
def Read_test_img():
    path = "/home/xilinx/jupyter_notebooks/imgp"
    files = os.listdir(path)
    for file in files:
        if file == '.ipynb_checkpoints':
            files.remove(file)
    imgData = []   
    for i in range(len(files)):  
        img = cv2.imread("/home/xilinx/jupyter_notebooks/imgp/{}.jpg".format(i),0)
        imgData.append(img)
    return imgData

#网络识别结果，硬件
def TestResult_MNIST(imgData):
    HW_time =[]
    numbers = []
    for m in range(len(imgData)):
        img_gray = imgData[m]
        img_gray = img_gray.astype(np.uint8) 
        for i in range(np.shape(img_gray)[0]):
            
            for j in range(np.shape(img_gray)[1]):
                image[0][i][j][0]=int((img_gray[i][j]/255)*(2**PTR_IMG));
        start=time.time()
        Run_Conv(conv,1,32,3,3,1,1,1,0,image,PTR_IMG,W_conv1,PTR_W_CONV1,h_conv1,PTR_H_CONV1)
        Run_Pool(pool,dma,32,4,4,h_conv1,h_pool1)
        Run_Conv(conv,32,256,7,7,1,1,0,0,h_pool1,PTR_H_POOL1,W_fc1,PTR_W_FC1,h_fc1,PTR_H_FC1)
        Run_Conv(conv,256,10,1,1,1,1,0,0,h_fc1,PTR_H_FC1,W_fc2,PTR_W_FC2,h_fc2,PTR_H_FC2)
        end=time.time()
        HW_time.append(end-start)
    
        max=-32768
        cnt=0
        for i in range(10):
            if(h_fc2[i//K][0][0][i%K]>max):
                max=h_fc2[i//K][0][0][i%K]
                cnt=i;
        numbers.append(cnt)
    return HW_time,numbers

#软件
def TestResult_MNIST_Soft(imgData):
    Soft_time = []
    numbers = []
    
    for m in range(len(imgData)):
        img_gray = imgData[m]
        img_gray = img_gray.astype(np.uint8) 
        for i in range(np.shape(img_gray)[0]):
            
            for j in range(np.shape(img_gray)[1]):
                image[0][i][j][0]=int((img_gray[i][j]/255)*(2**PTR_IMG));
        start=time.time()
        Run_Conv_Soft(1,32,3,3,1,1,1,0,image,PTR_IMG,W_conv1,PTR_W_CONV1,h_conv1,PTR_H_CONV1)
        Run_Pool(pool,dma,32,4,4,h_conv1,h_pool1)
        Run_Conv_Soft(32,256,7,7,1,1,0,0,h_pool1,PTR_H_POOL1,W_fc1,PTR_W_FC1,h_fc1,PTR_H_FC1)
        Run_Conv_Soft(256,10,1,1,1,1,0,0,h_fc1,PTR_H_FC1,W_fc2,PTR_W_FC2,h_fc2,PTR_H_FC2)
        end=time.time()
        Soft_time.append(end-start)
        
        max=-32768
        cnt=0
        for i in range(10):
            if(h_fc2[i//K][0][0][i%K]>max):
                max=h_fc2[i//K][0][0][i%K]
                cnt=i;
        numbers.append(cnt)

    return Soft_time,numbers


def avg_time(time):
    sum = 0
    for i in range(len(time)):
        sum = sum + time[i]
    avg_time = sum//len(time)
    sum_time = sum
    return avg_time,sum_time

imgData = Read_test_img()#读取测试图
imgs = np.hstack(imgData)#将测试图按行打包
HW_time,score_list = TestResult_MNIST(imgData)#网络识别，硬件
avg_time,sum_time = avg_time(HW_time)#计时
print(score_list)
print("The average hardware run time=%s s"%avg_time)
print("The whole hardware run time=%s s"%sum_time)

Soft_time,score_list = TestResult_MNIST_Soft(imgData)#网络识别，软件
avg_time,sum_time = avg_time(Soft_time)#计时
print(score_list)
print("The average software run time=%s s"%avg_time)
print("The whole software run time=%s s"%sum_time)
